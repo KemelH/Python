{
 "cells": [
  {
   "cell_type": "markdown",
   "id": "f1bdebcc",
   "metadata": {},
   "source": [
    "# Nombre parfait "
   ]
  },
  {
   "cell_type": "code",
   "execution_count": 12,
   "id": "892d4b06",
   "metadata": {},
   "outputs": [],
   "source": [
    "def get_dividers(nb):\n",
    "    \n",
    "    \"\"\"\n",
    "    retourne la liste des diviseurs d'un nombre nb\n",
    "    \"\"\"\n",
    "    \n",
    "    dividers_list=[]\n",
    "    for divider in range(1,nb+1):\n",
    "        if nb % divider == 0 :\n",
    "            dividers_list.append(divider)\n",
    "    return dividers_list\n",
    "\n",
    "def is_perfect(nb): \n",
    "    \n",
    "    \"\"\"\n",
    "    un nombre parfait est un nombre qui est égale a la somme \n",
    "    de ses diviseurs stricts renvoie True si nb est un npmbre \n",
    "    parfait, renvoie False sinon \n",
    "    \"\"\"\n",
    "    \n",
    "    if sum(get_dividers(nb)[:-1])== nb:\n",
    "        \n",
    "        return True \n",
    "    else : \n",
    "        return False\n",
    "    \n",
    "    \n",
    "def get_perfect_number_list(inf,sup): \n",
    "    \n",
    "    \"\"\"\n",
    "    Fonction qui retourne les nombres parfait dans un range prédetermine\n",
    "    \"\"\"\n",
    "    \n",
    "    perfect_nbr = []\n",
    "    \n",
    "    for i in range (inf,sup+1): \n",
    "        if is_perfect(i):\n",
    "            perfect_nbr.append(i)\n",
    "    return perfect_nbr\n"
   ]
  },
  {
   "cell_type": "code",
   "execution_count": 13,
   "id": "964ca4ba",
   "metadata": {},
   "outputs": [
    {
     "data": {
      "text/plain": [
       "[6, 28]"
      ]
     },
     "execution_count": 13,
     "metadata": {},
     "output_type": "execute_result"
    }
   ],
   "source": [
    "get_perfect_number_list(1,100)"
   ]
  }
 ],
 "metadata": {
  "kernelspec": {
   "display_name": "Python 3 (ipykernel)",
   "language": "python",
   "name": "python3"
  },
  "language_info": {
   "codemirror_mode": {
    "name": "ipython",
    "version": 3
   },
   "file_extension": ".py",
   "mimetype": "text/x-python",
   "name": "python",
   "nbconvert_exporter": "python",
   "pygments_lexer": "ipython3",
   "version": "3.8.13"
  }
 },
 "nbformat": 4,
 "nbformat_minor": 5
}
