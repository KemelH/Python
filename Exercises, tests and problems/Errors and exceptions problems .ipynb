{
 "cells": [
  {
   "cell_type": "markdown",
   "id": "5ba8cb41",
   "metadata": {},
   "source": [
    "# Errors and exceptions problems "
   ]
  },
  {
   "cell_type": "markdown",
   "id": "c9f3beba",
   "metadata": {},
   "source": [
    "### Problem 1\n",
    "    Handle the exception thrown by the code below by using try and except blocks."
   ]
  },
  {
   "cell_type": "code",
   "execution_count": 2,
   "id": "8630777a",
   "metadata": {},
   "outputs": [
    {
     "ename": "TypeError",
     "evalue": "unsupported operand type(s) for ** or pow(): 'str' and 'int'",
     "output_type": "error",
     "traceback": [
      "\u001b[1;31m---------------------------------------------------------------------------\u001b[0m",
      "\u001b[1;31mTypeError\u001b[0m                                 Traceback (most recent call last)",
      "\u001b[1;32m<ipython-input-2-c35f41ad7311>\u001b[0m in \u001b[0;36m<module>\u001b[1;34m\u001b[0m\n\u001b[0;32m      1\u001b[0m \u001b[1;32mfor\u001b[0m \u001b[0mi\u001b[0m \u001b[1;32min\u001b[0m \u001b[1;33m[\u001b[0m\u001b[1;34m'a'\u001b[0m\u001b[1;33m,\u001b[0m\u001b[1;34m'b'\u001b[0m\u001b[1;33m,\u001b[0m\u001b[1;34m'c'\u001b[0m\u001b[1;33m]\u001b[0m\u001b[1;33m:\u001b[0m\u001b[1;33m\u001b[0m\u001b[1;33m\u001b[0m\u001b[0m\n\u001b[1;32m----> 2\u001b[1;33m     \u001b[0mprint\u001b[0m\u001b[1;33m(\u001b[0m\u001b[0mi\u001b[0m\u001b[1;33m**\u001b[0m\u001b[1;36m2\u001b[0m\u001b[1;33m)\u001b[0m\u001b[1;33m\u001b[0m\u001b[1;33m\u001b[0m\u001b[0m\n\u001b[0m",
      "\u001b[1;31mTypeError\u001b[0m: unsupported operand type(s) for ** or pow(): 'str' and 'int'"
     ]
    }
   ],
   "source": [
    "for i in ['a','b','c']:\n",
    "    print(i**2)"
   ]
  },
  {
   "cell_type": "code",
   "execution_count": 14,
   "id": "0ce05e05",
   "metadata": {},
   "outputs": [
    {
     "name": "stdout",
     "output_type": "stream",
     "text": [
      "There was a type error !\n"
     ]
    }
   ],
   "source": [
    "try : \n",
    "    for i in ['a','b','c']:\n",
    "        print(i**2)\n",
    "        \n",
    "except TypeError : \n",
    "    print(\"There was a type error !\")"
   ]
  },
  {
   "cell_type": "markdown",
   "id": "6ba3020d",
   "metadata": {},
   "source": [
    "### Problem 2\n",
    "    Handle the exception thrown by the code below by using try and except blocks. Then use a finally block to print 'All Done.'"
   ]
  },
  {
   "cell_type": "code",
   "execution_count": 8,
   "id": "7e15ac3e",
   "metadata": {},
   "outputs": [
    {
     "ename": "ZeroDivisionError",
     "evalue": "division by zero",
     "output_type": "error",
     "traceback": [
      "\u001b[1;31m---------------------------------------------------------------------------\u001b[0m",
      "\u001b[1;31mZeroDivisionError\u001b[0m                         Traceback (most recent call last)",
      "\u001b[1;32m<ipython-input-8-6f985c4c80dd>\u001b[0m in \u001b[0;36m<module>\u001b[1;34m\u001b[0m\n\u001b[0;32m      2\u001b[0m \u001b[0my\u001b[0m \u001b[1;33m=\u001b[0m \u001b[1;36m0\u001b[0m\u001b[1;33m\u001b[0m\u001b[1;33m\u001b[0m\u001b[0m\n\u001b[0;32m      3\u001b[0m \u001b[1;33m\u001b[0m\u001b[0m\n\u001b[1;32m----> 4\u001b[1;33m \u001b[0mz\u001b[0m \u001b[1;33m=\u001b[0m \u001b[0mx\u001b[0m\u001b[1;33m/\u001b[0m\u001b[0my\u001b[0m\u001b[1;33m\u001b[0m\u001b[1;33m\u001b[0m\u001b[0m\n\u001b[0m",
      "\u001b[1;31mZeroDivisionError\u001b[0m: division by zero"
     ]
    }
   ],
   "source": [
    "x = 5\n",
    "y = 0\n",
    "\n",
    "z = x/y"
   ]
  },
  {
   "cell_type": "code",
   "execution_count": 15,
   "id": "cde0f00e",
   "metadata": {},
   "outputs": [
    {
     "name": "stdout",
     "output_type": "stream",
     "text": [
      "Infiniti result !! we cannot divide a number by 0\n",
      "All Done\n"
     ]
    }
   ],
   "source": [
    "try :\n",
    "    x = 5\n",
    "    y = 0\n",
    "    z = x/y\n",
    "    \n",
    "except ZeroDivisionError: \n",
    "    print(\"Infiniti result !! we cannot divide a number by 0\")\n",
    "    \n",
    "finally : \n",
    "    print(\"All Done\")"
   ]
  },
  {
   "cell_type": "markdown",
   "id": "18b76643",
   "metadata": {},
   "source": [
    "### Problem 3\n",
    "    Write a function that asks for an integer and prints the square of it. Use a while loop with a try, except, else block to account for incorrect inputs."
   ]
  },
  {
   "cell_type": "code",
   "execution_count": 16,
   "id": "95c9bd92",
   "metadata": {},
   "outputs": [],
   "source": [
    "def ask():\n",
    "    \n",
    "    while True : \n",
    "        try : \n",
    "            x = int(input(\"please enter a number to calculate the square : \"))\n",
    "            \n",
    "        except : \n",
    "            print(\"Wrong !! please enter a number\")\n",
    "            \n",
    "        else : \n",
    "            return pow(x,2)"
   ]
  },
  {
   "cell_type": "code",
   "execution_count": 17,
   "id": "5159c2f0",
   "metadata": {},
   "outputs": [
    {
     "name": "stdout",
     "output_type": "stream",
     "text": [
      "please enter a number to calculate the square : DF\n",
      "Wrong !! please enter a number\n",
      "please enter a number to calculate the square : 5\n"
     ]
    },
    {
     "data": {
      "text/plain": [
       "25"
      ]
     },
     "execution_count": 17,
     "metadata": {},
     "output_type": "execute_result"
    }
   ],
   "source": [
    "ask()"
   ]
  }
 ],
 "metadata": {
  "kernelspec": {
   "display_name": "Python 3",
   "language": "python",
   "name": "python3"
  },
  "language_info": {
   "codemirror_mode": {
    "name": "ipython",
    "version": 3
   },
   "file_extension": ".py",
   "mimetype": "text/x-python",
   "name": "python",
   "nbconvert_exporter": "python",
   "pygments_lexer": "ipython3",
   "version": "3.8.8"
  }
 },
 "nbformat": 4,
 "nbformat_minor": 5
}
