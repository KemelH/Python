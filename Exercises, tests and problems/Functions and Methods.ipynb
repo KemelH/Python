{
 "cells": [
  {
   "cell_type": "markdown",
   "id": "744db6a1",
   "metadata": {},
   "source": [
    "# Functions and Methods"
   ]
  },
  {
   "cell_type": "markdown",
   "id": "4a54918c",
   "metadata": {},
   "source": [
    "#### Write a function that computes the volume of a sphere given its radius.\n",
    "\n",
    "The volume of a sphere is given as\n",
    "\n",
    "                        4/3 (pi) (x)**3"
   ]
  },
  {
   "cell_type": "code",
   "execution_count": 9,
   "id": "e6c88a70",
   "metadata": {},
   "outputs": [],
   "source": [
    "from math import * \n",
    "def vol(rad):\n",
    "    return 4/3*(pi)*(rad)**3"
   ]
  },
  {
   "cell_type": "code",
   "execution_count": 8,
   "id": "fc1fc4be",
   "metadata": {},
   "outputs": [
    {
     "data": {
      "text/plain": [
       "33.510321638291124"
      ]
     },
     "execution_count": 8,
     "metadata": {},
     "output_type": "execute_result"
    }
   ],
   "source": [
    "vol(2)"
   ]
  },
  {
   "cell_type": "markdown",
   "id": "8e6373ce",
   "metadata": {},
   "source": [
    "#### Write a function that checks whether a number is in a given range (inclusive of high and low)"
   ]
  },
  {
   "cell_type": "code",
   "execution_count": 16,
   "id": "5c1f1a8c",
   "metadata": {},
   "outputs": [],
   "source": [
    "def ran_check(num,low,high):\n",
    "    return num > low and num < high \n",
    "# Only respense with a boolean"
   ]
  },
  {
   "cell_type": "code",
   "execution_count": 17,
   "id": "f4ce9f61",
   "metadata": {},
   "outputs": [
    {
     "data": {
      "text/plain": [
       "True"
      ]
     },
     "execution_count": 17,
     "metadata": {},
     "output_type": "execute_result"
    }
   ],
   "source": [
    "# test\n",
    "ran_check(5,2,7)"
   ]
  },
  {
   "cell_type": "code",
   "execution_count": 24,
   "id": "bb8d740b",
   "metadata": {},
   "outputs": [],
   "source": [
    "def ran_check(num,low,high):\n",
    "    if num > low and num < high : \n",
    "        print (f\"{num} is in the range between {low} et {high}\")\n",
    "# Return with a string "
   ]
  },
  {
   "cell_type": "code",
   "execution_count": 25,
   "id": "da216c52",
   "metadata": {},
   "outputs": [
    {
     "name": "stdout",
     "output_type": "stream",
     "text": [
      "5 is in the range between 2 et 7\n"
     ]
    }
   ],
   "source": [
    "# test\n",
    "ran_check(5,2,7)"
   ]
  },
  {
   "cell_type": "markdown",
   "id": "257d6265",
   "metadata": {},
   "source": [
    "#### Write a Python function that accepts a string and calculates the number of upper case letters and lower case letters.\n",
    "\n",
    "    Sample String : 'Hello Mr. Rogers, how are you this fine Tuesday?'\n",
    "    Expected Output : \n",
    "    No. of Upper case characters : 4\n",
    "    No. of Lower case Characters : 33\n",
    "\n",
    "    HINT: Two string methods that might prove useful: .isupper() and .islower()\n",
    "\n",
    "    If you feel ambitious, explore the Collections module to solve this problem!"
   ]
  },
  {
   "cell_type": "code",
   "execution_count": 35,
   "id": "2eec34df",
   "metadata": {},
   "outputs": [],
   "source": [
    "def up_low(s):\n",
    "    Upper_case = 0\n",
    "    Lower_case = 0 \n",
    "    for i in range(0,len(s)): \n",
    "        if s[i].isupper() :\n",
    "            Upper_case += 1 \n",
    "        elif s[i].islower() :\n",
    "            Lower_case +=1 \n",
    "        else : \n",
    "            pass \n",
    "    print(f' No.of Upper case caracters : {Upper_case}')\n",
    "    print(f' No.of Lower case caracters : {Lower_case}')"
   ]
  },
  {
   "cell_type": "code",
   "execution_count": 36,
   "id": "fffa5024",
   "metadata": {},
   "outputs": [
    {
     "name": "stdout",
     "output_type": "stream",
     "text": [
      " No.of Upper case caracters : 4\n",
      " No.of Lower case caracters : 33\n"
     ]
    }
   ],
   "source": [
    "# test\n",
    "s = 'Hello Mr. Rogers, how are you this fine Tuesday?'\n",
    "up_low(s)"
   ]
  },
  {
   "cell_type": "markdown",
   "id": "326337b2",
   "metadata": {},
   "source": [
    "#### Write a Python function that takes a list and returns a new list with unique elements of the first list.\n",
    "\n",
    "    Sample List : [1,1,1,1,2,2,3,3,3,3,4,5]\n",
    "    Unique List : [1, 2, 3, 4, 5]"
   ]
  },
  {
   "cell_type": "code",
   "execution_count": 47,
   "id": "92db6c16",
   "metadata": {},
   "outputs": [],
   "source": [
    "import numpy as np \n",
    "def unique_list(lst):\n",
    "    unique_array = np.unique(lst)\n",
    "    unique_list = unique_array.tolist()\n",
    "    print (f'Sample List : {lst}')\n",
    "    print (f'Unique List : {unique_list}')"
   ]
  },
  {
   "cell_type": "code",
   "execution_count": 48,
   "id": "01867629",
   "metadata": {},
   "outputs": [
    {
     "name": "stdout",
     "output_type": "stream",
     "text": [
      "Sample List : [1, 1, 1, 1, 2, 2, 3, 3, 3, 3, 4, 5]\n",
      "Unique List : [1, 2, 3, 4, 5]\n"
     ]
    }
   ],
   "source": [
    "# test\n",
    "unique_list([1,1,1,1,2,2,3,3,3,3,4,5])"
   ]
  },
  {
   "cell_type": "markdown",
   "id": "d9eaf319",
   "metadata": {},
   "source": [
    "#### Write a Python function to multiply all the numbers in a list.\n",
    "\n",
    "    Sample List : [1, 2, 3, -4]\n",
    "    Expected Output : -24"
   ]
  },
  {
   "cell_type": "code",
   "execution_count": 52,
   "id": "c9d4e041",
   "metadata": {},
   "outputs": [],
   "source": [
    "def multiply(numbers):\n",
    "    somme = 1\n",
    "    for i in range(0,len(numbers)): \n",
    "        somme = somme * numbers[i]\n",
    "    return somme"
   ]
  },
  {
   "cell_type": "code",
   "execution_count": 53,
   "id": "afcf5ef7",
   "metadata": {},
   "outputs": [
    {
     "data": {
      "text/plain": [
       "-24"
      ]
     },
     "execution_count": 53,
     "metadata": {},
     "output_type": "execute_result"
    }
   ],
   "source": [
    "# test\n",
    "multiply([1,2,3,-4])"
   ]
  },
  {
   "cell_type": "markdown",
   "id": "082ef084",
   "metadata": {},
   "source": [
    "#### Write a Python function that checks whether a word or phrase is palindrome or not.\n",
    "\n",
    "    Note: A palindrome is word, phrase, or sequence that reads the same backward as forward, e.g., madam,kayak,racecar, or a phrase \"nurses run\". Hint: You may want to check out the .replace() method in a string to help out with dealing with spaces. Also google search how to reverse a string in Python, there are some clever ways to do it with slicing notation."
   ]
  },
  {
   "cell_type": "code",
   "execution_count": 56,
   "id": "03383341",
   "metadata": {},
   "outputs": [],
   "source": [
    "def palindrome(s):\n",
    "    s = s.replace(' ','')\n",
    "    return s ==s[::-1]"
   ]
  },
  {
   "cell_type": "code",
   "execution_count": 57,
   "id": "f8c8b782",
   "metadata": {},
   "outputs": [
    {
     "data": {
      "text/plain": [
       "True"
      ]
     },
     "execution_count": 57,
     "metadata": {},
     "output_type": "execute_result"
    }
   ],
   "source": [
    "# test\n",
    "palindrome('helleh')"
   ]
  },
  {
   "cell_type": "code",
   "execution_count": 58,
   "id": "b41b576b",
   "metadata": {},
   "outputs": [
    {
     "data": {
      "text/plain": [
       "True"
      ]
     },
     "execution_count": 58,
     "metadata": {},
     "output_type": "execute_result"
    }
   ],
   "source": [
    "# test\n",
    "palindrome('abcba')"
   ]
  },
  {
   "cell_type": "markdown",
   "id": "95cf23a3",
   "metadata": {},
   "source": [
    "## Hard:\n",
    "    Write a Python function to check whether a string is pangram or not. (Assume the string passed in does not have any punctuation)\n",
    "\n",
    "    Note : Pangrams are words or sentences containing every letter of the alphabet at least once.\n",
    "    For example : \"The quick brown fox jumps over the lazy dog\"\n",
    "\n",
    "    Hint: You may want to use .replace() method to get rid of spaces.\n",
    "    \n",
    "    Hint: Look at the string module\n",
    "    \n",
    "    Hint: In case you want to use set comparisons"
   ]
  },
  {
   "cell_type": "code",
   "execution_count": 148,
   "id": "d06a32e6",
   "metadata": {},
   "outputs": [],
   "source": [
    "import string\n",
    "\n",
    "def ispangram(str1, alphabet=string.ascii_lowercase):\n",
    "    alphaset = set(alphabet) # make a set of the alphabet\n",
    "    str1 = str1.replace(' ','') # delete the space\n",
    "    str1= str1.lower() #making the string given lower case\n",
    "    str1 = set(str1) #making the string given to a set\n",
    "    return str1 == alphaset \n",
    "        \n",
    "    "
   ]
  },
  {
   "cell_type": "code",
   "execution_count": 149,
   "id": "f568314f",
   "metadata": {},
   "outputs": [
    {
     "data": {
      "text/plain": [
       "True"
      ]
     },
     "execution_count": 149,
     "metadata": {},
     "output_type": "execute_result"
    }
   ],
   "source": [
    "# test\n",
    "ispangram(\"The quick brown fox jumps over the lazy dog\")"
   ]
  }
 ],
 "metadata": {
  "kernelspec": {
   "display_name": "Python 3",
   "language": "python",
   "name": "python3"
  },
  "language_info": {
   "codemirror_mode": {
    "name": "ipython",
    "version": 3
   },
   "file_extension": ".py",
   "mimetype": "text/x-python",
   "name": "python",
   "nbconvert_exporter": "python",
   "pygments_lexer": "ipython3",
   "version": "3.8.8"
  }
 },
 "nbformat": 4,
 "nbformat_minor": 5
}
