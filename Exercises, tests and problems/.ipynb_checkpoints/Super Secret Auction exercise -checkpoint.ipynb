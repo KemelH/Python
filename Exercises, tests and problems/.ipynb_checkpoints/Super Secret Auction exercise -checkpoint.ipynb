{
 "cells": [
  {
   "cell_type": "code",
   "execution_count": 4,
   "id": "58dd008f",
   "metadata": {},
   "outputs": [
    {
     "data": {
      "text/html": [
       "<img src=\"https://storage.googleapis.com/replit/images/1630162302556_eb8d939366af27625a4e8178114ea0e2.jpeg\"/>"
      ],
      "text/plain": [
       "<IPython.core.display.Image object>"
      ]
     },
     "execution_count": 4,
     "metadata": {},
     "output_type": "execute_result"
    }
   ],
   "source": [
    "from IPython.display import Image\n",
    "Image (url=\"https://storage.googleapis.com/replit/images/1630162302556_eb8d939366af27625a4e8178114ea0e2.jpeg\")"
   ]
  },
  {
   "cell_type": "code",
   "execution_count": null,
   "id": "dd02bb55",
   "metadata": {},
   "outputs": [],
   "source": [
    "from IPython.display import clear_output\n",
    "\n",
    "game_on = True \n",
    "\n",
    "print(\"Welcome to the secret auction program ! \\n\")\n",
    "dic = {}\n",
    "\n",
    "while game_on == True : \n",
    "  \n",
    "    name = input(\"What's your name : \\n\") #input the name of the player \n",
    "    bid = int(input(\"What's your bid? \\n\")) #input the bid of the player \n",
    "    dic[name] = bid # to add the player and the bid to the Dictionary \n",
    "    \n",
    "    x = input(\"Are they any other bidder? type 'yes' or 'no'\\n\").lower()\n",
    "    \n",
    "    if x == 'yes' : \n",
    "        game_on = True \n",
    "        clear_output() #to clear the output for the next player so he can't see the bid of the other player\n",
    "        continue \n",
    "        \n",
    "    elif x == 'no':\n",
    "        clear_output() # to clear the output\n",
    "        winner = max(dic, key = dic.get) # to get the name of the player with the max bid \n",
    "        bid = dic[winner] # to get the amount of the bid for the winner \n",
    "        \n",
    "        print(f\"The winner is {winner} with a bid of ${bid}\") \n",
    "        break\n",
    "        \n",
    "        \n",
    "# If there is a same bid for one or many bidder the winner will be the first person that enters that bid."
   ]
  }
 ],
 "metadata": {
  "kernelspec": {
   "display_name": "Python 3 (ipykernel)",
   "language": "python",
   "name": "python3"
  },
  "language_info": {
   "codemirror_mode": {
    "name": "ipython",
    "version": 3
   },
   "file_extension": ".py",
   "mimetype": "text/x-python",
   "name": "python",
   "nbconvert_exporter": "python",
   "pygments_lexer": "ipython3",
   "version": "3.8.13"
  }
 },
 "nbformat": 4,
 "nbformat_minor": 5
}
