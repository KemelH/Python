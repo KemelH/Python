{
 "cells": [
  {
   "cell_type": "markdown",
   "id": "a356109d",
   "metadata": {},
   "source": [
    " # Object Oriented Programming "
   ]
  },
  {
   "cell_type": "markdown",
   "id": "531d1991",
   "metadata": {},
   "source": [
    "#### Problem 1\n",
    "    Fill in the class methods to accept hight and radius input and return the volume and a surface aera of a cylinder "
   ]
  },
  {
   "cell_type": "code",
   "execution_count": 4,
   "id": "686c1afb",
   "metadata": {},
   "outputs": [],
   "source": [
    "class Cylinder():\n",
    "    \n",
    "    pi = 3.14\n",
    "    \n",
    "    def __init__(self,height=1,radius=1):\n",
    "        \n",
    "        self.height = height\n",
    "        self.radius = radius \n",
    "        \n",
    "    def volume(self):\n",
    "        return (self.radius)**2 *Cylinder.pi *self.height\n",
    "    \n",
    "    def surface_area(self):\n",
    "        base = Cylinder.pi * (self.radius)**2\n",
    "        return 2* base + ( 2 * Cylinder.pi * self.radius * self.height)"
   ]
  },
  {
   "cell_type": "code",
   "execution_count": 5,
   "id": "5b4a8119",
   "metadata": {},
   "outputs": [],
   "source": [
    "#test \n",
    "c = Cylinder(2,3)"
   ]
  },
  {
   "cell_type": "code",
   "execution_count": 7,
   "id": "80538f77",
   "metadata": {},
   "outputs": [
    {
     "data": {
      "text/plain": [
       "56.52"
      ]
     },
     "execution_count": 7,
     "metadata": {},
     "output_type": "execute_result"
    }
   ],
   "source": [
    "#test\n",
    "c.volume()"
   ]
  },
  {
   "cell_type": "code",
   "execution_count": 9,
   "id": "22a52de3",
   "metadata": {},
   "outputs": [
    {
     "data": {
      "text/plain": [
       "94.2"
      ]
     },
     "execution_count": 9,
     "metadata": {},
     "output_type": "execute_result"
    }
   ],
   "source": [
    "#test\n",
    "c.surface_area()"
   ]
  },
  {
   "cell_type": "markdown",
   "id": "9c74ee31",
   "metadata": {},
   "source": [
    "#### Problem 2\n",
    "    Fill in the Line class methods to accept coordinates as a pair of tuples and return the slope and distance of the line."
   ]
  },
  {
   "cell_type": "code",
   "execution_count": 19,
   "id": "2d0192c4",
   "metadata": {},
   "outputs": [],
   "source": [
    "import math"
   ]
  },
  {
   "cell_type": "code",
   "execution_count": 23,
   "id": "f9ac22a3",
   "metadata": {},
   "outputs": [],
   "source": [
    "\n",
    "class Line():\n",
    "    \n",
    "    def __init__(self,coor1,coor2):\n",
    "        self.x1 = coor1[0]\n",
    "        self.y1 = coor1[1]\n",
    "        self.x2 = coor2[0]\n",
    "        self.y2 = coor2[1]\n",
    "        \n",
    "    \n",
    "    def distance(self):\n",
    "        return math.sqrt((self.x2-self.x1)**2+(self.y2-self.y1)**2)\n",
    "    \n",
    "    def slope(self):\n",
    "        return (self.y2 - self.y1) / (self.x2-self.x1)"
   ]
  },
  {
   "cell_type": "code",
   "execution_count": 24,
   "id": "bac99c3d",
   "metadata": {},
   "outputs": [],
   "source": [
    "#test\n",
    "coordinate1 = (3,2)\n",
    "coordinate2 = (8,10)\n",
    "\n",
    "li = Line(coordinate1,coordinate2)"
   ]
  },
  {
   "cell_type": "code",
   "execution_count": 25,
   "id": "f51aae6e",
   "metadata": {},
   "outputs": [
    {
     "data": {
      "text/plain": [
       "9.433981132056603"
      ]
     },
     "execution_count": 25,
     "metadata": {},
     "output_type": "execute_result"
    }
   ],
   "source": [
    "#test\n",
    "li.distance()"
   ]
  },
  {
   "cell_type": "code",
   "execution_count": 26,
   "id": "9aa662e7",
   "metadata": {},
   "outputs": [
    {
     "data": {
      "text/plain": [
       "1.6"
      ]
     },
     "execution_count": 26,
     "metadata": {},
     "output_type": "execute_result"
    }
   ],
   "source": [
    "#test\n",
    "li.slope()"
   ]
  }
 ],
 "metadata": {
  "kernelspec": {
   "display_name": "Python 3",
   "language": "python",
   "name": "python3"
  },
  "language_info": {
   "codemirror_mode": {
    "name": "ipython",
    "version": 3
   },
   "file_extension": ".py",
   "mimetype": "text/x-python",
   "name": "python",
   "nbconvert_exporter": "python",
   "pygments_lexer": "ipython3",
   "version": "3.8.8"
  }
 },
 "nbformat": 4,
 "nbformat_minor": 5
}
