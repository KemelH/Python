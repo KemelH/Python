{
 "cells": [
  {
   "cell_type": "markdown",
   "id": "e08dc818",
   "metadata": {},
   "source": [
    "# Iterators and Generators"
   ]
  },
  {
   "cell_type": "markdown",
   "id": "ba6097b3",
   "metadata": {},
   "source": [
    "### Problem 1\n",
    "    Create a generator that generates the squares of numbers up to some number N. "
   ]
  },
  {
   "cell_type": "code",
   "execution_count": 1,
   "id": "d9b8d4fd",
   "metadata": {},
   "outputs": [],
   "source": [
    "def gensquares(N):\n",
    "    \n",
    "    for x in range(N):\n",
    "        yield x**2   "
   ]
  },
  {
   "cell_type": "code",
   "execution_count": 2,
   "id": "b89ec212",
   "metadata": {},
   "outputs": [
    {
     "name": "stdout",
     "output_type": "stream",
     "text": [
      "0\n",
      "1\n",
      "4\n",
      "9\n",
      "16\n",
      "25\n",
      "36\n",
      "49\n",
      "64\n",
      "81\n"
     ]
    }
   ],
   "source": [
    "for x in gensquares(10):\n",
    "    print(x)"
   ]
  },
  {
   "cell_type": "markdown",
   "id": "47460240",
   "metadata": {},
   "source": [
    "### Problem 2\n",
    "    Create a generator that yields \"n\" random numbers between a low and high number (that are inputs).\n",
    "    Note: Use the random library: "
   ]
  },
  {
   "cell_type": "code",
   "execution_count": 5,
   "id": "91d682f7",
   "metadata": {},
   "outputs": [],
   "source": [
    "import random \n",
    "def rand_num (low,high,n):\n",
    "    \n",
    "\n",
    "    for x in range(n): \n",
    "        yield random.randint(low,high)\n",
    "    "
   ]
  },
  {
   "cell_type": "code",
   "execution_count": 6,
   "id": "3af2f98f",
   "metadata": {},
   "outputs": [
    {
     "name": "stdout",
     "output_type": "stream",
     "text": [
      "please enter the low number1\n",
      "please enter the high number10\n",
      "please neter the number of the output12\n",
      "2\n",
      "8\n",
      "7\n",
      "10\n",
      "2\n",
      "7\n",
      "10\n",
      "5\n",
      "1\n",
      "2\n",
      "8\n",
      "5\n"
     ]
    }
   ],
   "source": [
    "low = int(input(\"please enter the low number\"))\n",
    "high = int(input(\"please enter the high number\"))\n",
    "n = int(input(\"please neter the number of the output\"))\n",
    "\n",
    "for num in rand_num(low,high,n):\n",
    "    print(num)"
   ]
  },
  {
   "cell_type": "markdown",
   "id": "19a6556e",
   "metadata": {},
   "source": [
    "### Problem 3\n",
    "    Use the iter() function to convert the string below into an iterator:"
   ]
  },
  {
   "cell_type": "code",
   "execution_count": 11,
   "id": "e971d9eb",
   "metadata": {},
   "outputs": [
    {
     "name": "stdout",
     "output_type": "stream",
     "text": [
      "h\n",
      "e\n",
      "l\n"
     ]
    }
   ],
   "source": [
    "s = 'hello World'\n",
    "s = iter(s)\n",
    "print(next(s))\n",
    "print(next(s))\n",
    "print(next(s))\n",
    "# ect ect ..."
   ]
  }
 ],
 "metadata": {
  "kernelspec": {
   "display_name": "Python 3",
   "language": "python",
   "name": "python3"
  },
  "language_info": {
   "codemirror_mode": {
    "name": "ipython",
    "version": 3
   },
   "file_extension": ".py",
   "mimetype": "text/x-python",
   "name": "python",
   "nbconvert_exporter": "python",
   "pygments_lexer": "ipython3",
   "version": "3.8.8"
  }
 },
 "nbformat": 4,
 "nbformat_minor": 5
}
