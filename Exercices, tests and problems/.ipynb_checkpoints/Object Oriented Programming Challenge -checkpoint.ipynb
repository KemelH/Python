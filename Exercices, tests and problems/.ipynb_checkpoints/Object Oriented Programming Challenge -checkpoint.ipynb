{
 "cells": [
  {
   "cell_type": "markdown",
   "id": "236423ab",
   "metadata": {},
   "source": [
    "# Object Oriented Programming Challenge\n",
    "    For this challenge, create a bank account class that has two attributes:\n",
    "\n",
    "    owner\n",
    "    balance\n",
    "    \n",
    "    and two methods:\n",
    "\n",
    "    deposit\n",
    "    withdraw\n",
    "    \n",
    "    As an added requirement, withdrawals may not exceed the available balance.\n",
    "\n",
    "    Instantiate your class, make several deposits and withdrawals, and test to make sure the account can't be overdrawn."
   ]
  },
  {
   "cell_type": "code",
   "execution_count": 65,
   "id": "937137b7",
   "metadata": {},
   "outputs": [],
   "source": [
    "class Account(): \n",
    "    \n",
    "    \n",
    "    def __init__(self,owner,balance):\n",
    "        self.owner = owner\n",
    "        self.balance = balance\n",
    "        \n",
    "    def __str__(self):\n",
    "        return f\"Account Owner :  {self.owner} \\nAccount balance : {self.balance}\"\n",
    "    \n",
    "        \n",
    "    def deposit(self,depot):\n",
    "        self.balance = self.balance + depot\n",
    "        print( f\" Your new balance is {self.balance} after your deposit of {depot}\")\n",
    "    \n",
    "    def withdraw(self,cash): \n",
    "        if self.balance - cash >= 0 :\n",
    "            self.balance = self.balance - cash \n",
    "            print (f\"Transaction approuved !!\\nyour new balance is {self.balance}\")\n",
    "        else : \n",
    "            print (f\"Transaction denied !!\\nyour balance is {self.balance}\")\n",
    "        "
   ]
  },
  {
   "cell_type": "code",
   "execution_count": 66,
   "id": "dc13416a",
   "metadata": {},
   "outputs": [],
   "source": [
    "# 1. Instantiate the class\n",
    "acct1 = Account('Jose',100)"
   ]
  },
  {
   "cell_type": "code",
   "execution_count": 67,
   "id": "955e8d4d",
   "metadata": {},
   "outputs": [
    {
     "name": "stdout",
     "output_type": "stream",
     "text": [
      "Account Owner :  Jose \n",
      "Account balance : 100\n"
     ]
    }
   ],
   "source": [
    "# 2. Print the object\n",
    "print(acct1)"
   ]
  },
  {
   "cell_type": "code",
   "execution_count": 68,
   "id": "9fe2948b",
   "metadata": {},
   "outputs": [
    {
     "data": {
      "text/plain": [
       "'Jose'"
      ]
     },
     "execution_count": 68,
     "metadata": {},
     "output_type": "execute_result"
    }
   ],
   "source": [
    "# 3. Show the account owner attribute\n",
    "acct1.owner"
   ]
  },
  {
   "cell_type": "code",
   "execution_count": 69,
   "id": "001d4a58",
   "metadata": {},
   "outputs": [
    {
     "data": {
      "text/plain": [
       "100"
      ]
     },
     "execution_count": 69,
     "metadata": {},
     "output_type": "execute_result"
    }
   ],
   "source": [
    "# 4. Show the account balance attribute\n",
    "acct1.balance"
   ]
  },
  {
   "cell_type": "code",
   "execution_count": 70,
   "id": "6c9f3572",
   "metadata": {},
   "outputs": [
    {
     "name": "stdout",
     "output_type": "stream",
     "text": [
      " Your new balance is 150 after your deposit of 50\n"
     ]
    }
   ],
   "source": [
    "# 5. Make a series of deposits and withdrawals\n",
    "acct1.deposit(50)"
   ]
  },
  {
   "cell_type": "code",
   "execution_count": 71,
   "id": "0235efa7",
   "metadata": {},
   "outputs": [
    {
     "name": "stdout",
     "output_type": "stream",
     "text": [
      "Transaction approuved !!\n",
      "your new balance is 50\n"
     ]
    }
   ],
   "source": [
    "acct1.withdraw(100)"
   ]
  },
  {
   "cell_type": "code",
   "execution_count": 72,
   "id": "91864fbf",
   "metadata": {},
   "outputs": [
    {
     "name": "stdout",
     "output_type": "stream",
     "text": [
      "Transaction denied !!\n",
      "your balance is 50\n"
     ]
    }
   ],
   "source": [
    "# 6. Make a withdrawal that exceeds the available balance\n",
    "acct1.withdraw(500)"
   ]
  }
 ],
 "metadata": {
  "kernelspec": {
   "display_name": "Python 3",
   "language": "python",
   "name": "python3"
  },
  "language_info": {
   "codemirror_mode": {
    "name": "ipython",
    "version": 3
   },
   "file_extension": ".py",
   "mimetype": "text/x-python",
   "name": "python",
   "nbconvert_exporter": "python",
   "pygments_lexer": "ipython3",
   "version": "3.8.8"
  }
 },
 "nbformat": 4,
 "nbformat_minor": 5
}
