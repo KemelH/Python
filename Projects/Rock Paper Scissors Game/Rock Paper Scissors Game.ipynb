{
 "cells": [
  {
   "cell_type": "markdown",
   "id": "35bd6a5e",
   "metadata": {},
   "source": [
    "# Rock Paper Scissors Game "
   ]
  },
  {
   "cell_type": "code",
   "execution_count": 8,
   "id": "6c9e0b33",
   "metadata": {},
   "outputs": [
    {
     "data": {
      "text/html": [
       "<img src=\"https://miro.medium.com/max/4800/1*8du96SQUQ0NlWmWvVu20Zw.png\"/>"
      ],
      "text/plain": [
       "<IPython.core.display.Image object>"
      ]
     },
     "execution_count": 8,
     "metadata": {},
     "output_type": "execute_result"
    }
   ],
   "source": [
    "from IPython.display import Image\n",
    "Image( url = \"https://miro.medium.com/max/4800/1*8du96SQUQ0NlWmWvVu20Zw.png\")\n"
   ]
  },
  {
   "cell_type": "code",
   "execution_count": 2,
   "id": "01d08b0c",
   "metadata": {},
   "outputs": [],
   "source": [
    "def number_round():\n",
    "    x = 0\n",
    "    while x >  10 or x == 0: \n",
    "        \n",
    "        try:\n",
    "            x = int(input(\"Please choose the number of round maximum 10 rounds : \"))\n",
    "            \n",
    "        except ValueError: \n",
    "            print(\"Wrong !! Please choose a valid number of rounds\\n\")\n",
    "            continue\n",
    "            \n",
    "        else: \n",
    "            if x > 10 :\n",
    "                print(\"Wrong !! the maximum number of rounds is 10, please try again\\n\")\n",
    "            \n",
    "    return x"
   ]
  },
  {
   "cell_type": "code",
   "execution_count": 3,
   "id": "3e612894",
   "metadata": {},
   "outputs": [],
   "source": [
    "def player_input():\n",
    "    \n",
    "    choice = 3 \n",
    "    \n",
    "    while choice not in [0,1,2]: \n",
    "        \n",
    "        try:\n",
    "            choice = int(input(\"please choice between Rock: 0 , Paper: 1 and Scissors: 2\\n\"))\n",
    "            \n",
    "        except ValueError: \n",
    "            print(\"Wrong choice !! Please try again\\n\")\n",
    "            \n",
    "        else :\n",
    "            if choice > 2 : \n",
    "                print(\"Wrong !! please choose the correct number\")\n",
    "            \n",
    "    return choice"
   ]
  },
  {
   "cell_type": "code",
   "execution_count": 4,
   "id": "900f8d4e",
   "metadata": {},
   "outputs": [],
   "source": [
    "def Print_2hands(x,y):\n",
    "    print(\"you choice :\" + list[y]+ \"\\nComputer choice :\"+ list[x]+\"\\n\")\n"
   ]
  },
  {
   "cell_type": "code",
   "execution_count": 5,
   "id": "84b5d769",
   "metadata": {},
   "outputs": [],
   "source": [
    "def winner(x,y): \n",
    "    if x == 0 and y == 1 :\n",
    "        return(\"Player Win this round !\")\n",
    "    elif x == 0 and y == 2 :\n",
    "        return(\"Computer Win this round !\")\n",
    "    elif x == 1 and y == 0 :\n",
    "        return(\"Computer Win this round !\")\n",
    "    elif x == 1 and y == 2 :\n",
    "        return(\"Player Win this round !\")\n",
    "    elif x == 2 and y == 0 :\n",
    "        return(\"Player Win this round !\")\n",
    "    elif x == 2 and y == 1 :\n",
    "        return(\"Computer Win this round !\")\n",
    "    else : \n",
    "        return (\"The Game is Tie !\")\n",
    "    "
   ]
  },
  {
   "cell_type": "code",
   "execution_count": 6,
   "id": "ea18c007",
   "metadata": {},
   "outputs": [],
   "source": [
    "def replay():\n",
    "    return input(\"Would you like to play again ? Yes / No: \").lower()"
   ]
  },
  {
   "cell_type": "code",
   "execution_count": 7,
   "id": "6ae336f2",
   "metadata": {},
   "outputs": [
    {
     "name": "stdout",
     "output_type": "stream",
     "text": [
      "Welcome to the Rock Paper Scissors Game\n",
      "\n",
      "Please choose the number of round maximum 10 rounds : 5\n",
      "This is the round number: 1\n",
      "\n",
      "please choice between Rock: 0 , Paper: 1 and Scissors: 2\n",
      "0\n",
      "you choice :Rock\n",
      "Computer choice :Paper\n",
      "\n",
      "Computer Win this round !\n",
      "Player score : 0 - 1 : Computer score\n",
      "\n",
      "This is the round number: 2\n",
      "\n",
      "please choice between Rock: 0 , Paper: 1 and Scissors: 2\n",
      "1\n",
      "you choice :Paper\n",
      "Computer choice :Rock\n",
      "\n",
      "Player Win this round !\n",
      "Player score : 1 - 1 : Computer score\n",
      "\n",
      "This is the round number: 3\n",
      "\n",
      "please choice between Rock: 0 , Paper: 1 and Scissors: 2\n",
      "1\n",
      "you choice :Paper\n",
      "Computer choice :Paper\n",
      "\n",
      "The Game is Tie !\n",
      "This is the round number: 4\n",
      "\n",
      "please choice between Rock: 0 , Paper: 1 and Scissors: 2\n",
      "2\n",
      "you choice :Scissors\n",
      "Computer choice :Paper\n",
      "\n",
      "Player Win this round !\n",
      "Player score : 2 - 1 : Computer score\n",
      "\n",
      "This is the round number: 5\n",
      "\n",
      "please choice between Rock: 0 , Paper: 1 and Scissors: 2\n",
      "0\n",
      "you choice :Rock\n",
      "Computer choice :Scissors\n",
      "\n",
      "Player Win this round !\n",
      "Player score : 3 - 1 : Computer score\n",
      "\n",
      "Player won the game !!\n",
      "Would you like to play again ? Yes / No: No\n",
      "See you soon !!\n"
     ]
    }
   ],
   "source": [
    "print(\"Welcome to the Rock Paper Scissors Game\\n\")\n",
    "\n",
    "while game_on == True : \n",
    "    Round = 0 \n",
    "    player_score = 0\n",
    "    computer_score = 0 \n",
    "    nbr = number_round()\n",
    "    \n",
    "    while nbr != Round :   \n",
    "        \n",
    "        print(f\"This is the round number: {Round+1}\\n\")\n",
    "        \n",
    "        player_choice = player_input()\n",
    "        \n",
    "        computer_choice = random.randint(0,len(list)-1)\n",
    "\n",
    "        Print_2hands(computer_choice,player_choice)\n",
    "\n",
    "        round_winner = winner(computer_choice,player_choice)\n",
    "        print(round_winner)\n",
    "        \n",
    "        \n",
    "        if round_winner == \"Computer Win this round !\":\n",
    "            computer_score += 1\n",
    "            print (f\"Player score : {player_score} - {computer_score} : Computer score\\n\")\n",
    "        elif round_winner == \"Player Win this round !\": \n",
    "            player_score += 1 \n",
    "            print (f\"Player score : {player_score} - {computer_score} : Computer score\\n\")\n",
    "        else :\n",
    "            pass\n",
    "        \n",
    "        Round += 1\n",
    "        \n",
    "    if player_score > computer_score: \n",
    "        print(\"Player won the game !!\")\n",
    "    elif computer_score > player_score: \n",
    "        print(\"Computer Won !\")\n",
    "    else : \n",
    "        print(\"Tie Game !!\")\n",
    "                \n",
    "    \n",
    "    if replay() == \"yes\":\n",
    "        game_on == True \n",
    "        print(\"Yes let's play again\\n\")\n",
    "    else :\n",
    "        print(\"See you soon !!\")\n",
    "        break"
   ]
  }
 ],
 "metadata": {
  "kernelspec": {
   "display_name": "Python 3",
   "language": "python",
   "name": "python3"
  },
  "language_info": {
   "codemirror_mode": {
    "name": "ipython",
    "version": 3
   },
   "file_extension": ".py",
   "mimetype": "text/x-python",
   "name": "python",
   "nbconvert_exporter": "python",
   "pygments_lexer": "ipython3",
   "version": "3.8.8"
  }
 },
 "nbformat": 4,
 "nbformat_minor": 5
}
