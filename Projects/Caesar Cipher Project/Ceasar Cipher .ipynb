{
 "cells": [
  {
   "cell_type": "markdown",
   "id": "ff95cf8e",
   "metadata": {},
   "source": [
    "# Ceasar Cipher Project"
   ]
  },
  {
   "cell_type": "code",
   "execution_count": 1,
   "id": "7ed2d0ee",
   "metadata": {},
   "outputs": [
    {
     "data": {
      "text/html": [
       "<img src=\"https://cdn.pixabay.com/photo/2017/07/25/11/27/cyber-security-2537786_960_720.png\"/>"
      ],
      "text/plain": [
       "<IPython.core.display.Image object>"
      ]
     },
     "execution_count": 1,
     "metadata": {},
     "output_type": "execute_result"
    }
   ],
   "source": [
    "from IPython.display import Image\n",
    "Image( url = \"https://cdn.pixabay.com/photo/2017/07/25/11/27/cyber-security-2537786_960_720.png\")"
   ]
  },
  {
   "cell_type": "code",
   "execution_count": 1,
   "id": "d6b8d4d8",
   "metadata": {},
   "outputs": [],
   "source": [
    "Letter = ['a','b','c','d','e','f','g','h','i','j','k','l','m','n','o','p','q','r','s','t','u','v','w','x','y','z']"
   ]
  },
  {
   "cell_type": "code",
   "execution_count": 2,
   "id": "54bb9d45",
   "metadata": {},
   "outputs": [],
   "source": [
    "def encode ():\n",
    "    \n",
    "    \n",
    "    \"\"\"\n",
    "    \n",
    "    This Function is for encoding a message \n",
    "    \n",
    "    \"\"\"\n",
    "    \n",
    "    encode_msg = [] # empty list to append the encode message here \n",
    "    \n",
    "    message = input(\"Type your message: \\n\").lower()\n",
    "    shift_num = int(input('Type the shift number: \\n'))\n",
    "    \n",
    "    x = [i for i in message] # convert the message to a list \n",
    "    \n",
    "    for letter in range(0,len(x)) :\n",
    "        if x[letter] == ' ': \n",
    "            encode_msg.append(\" \")  # to append space if there is a space in the message\n",
    "        else :\n",
    "            index_msg = Letter.index(x[letter]) + shift_num\n",
    "            encode_msg.append(Letter[index_msg]) # to append the encoded letter to the encode_msg\n",
    "            \n",
    "    encode_msg2 = ''.join(encode_msg) # convert the list to a string \n",
    "    \n",
    "    print(f\"Here's the encoded result : {encode_msg2}\")\n",
    "    \n",
    "    "
   ]
  },
  {
   "cell_type": "code",
   "execution_count": 3,
   "id": "9af0de3a",
   "metadata": {},
   "outputs": [],
   "source": [
    "def decode ():\n",
    "    \n",
    "    \"\"\"\n",
    "    \n",
    "    This function is to decode a message \n",
    "    \n",
    "    \"\"\"\n",
    "    \n",
    "    \n",
    "    decode_msg = [] # empty list to append the decode message here \n",
    "    \n",
    "    message = input(\"Type your message: \\n\").lower()\n",
    "    shift_num = int(input('Type the shift number: \\n'))\n",
    "    \n",
    "    x = [i for i in message] # convert the message to a list \n",
    "    \n",
    "    for letter in range(0,len(x)) :\n",
    "        if x[letter] == ' ': \n",
    "            decode_msg.append(\" \")  # to append space if there is a space in the message \n",
    "        else :\n",
    "            index_msg = Letter.index(x[letter]) - shift_num\n",
    "            decode_msg.append(Letter[index_msg])  # to append the decoded letter in the decode_msg\n",
    "            \n",
    "    decode_msg2 = ''.join(decode_msg) # convert the list to a string \n",
    "    \n",
    "    print(f\"Here's the decode result : {decode_msg2}\")"
   ]
  },
  {
   "cell_type": "code",
   "execution_count": 4,
   "id": "ae548ac4",
   "metadata": {},
   "outputs": [
    {
     "name": "stdout",
     "output_type": "stream",
     "text": [
      "Welcome to the Ceasar Cipher !!\n",
      "\n",
      "Type 'encode' to encrypt or 'decode' to decrypt \n",
      "encode\n",
      "Type your message: \n",
      "kemel hached\n",
      "Type the shift number: \n",
      "5\n",
      "Here's the encoded result : pjrjq mfhmji\n",
      "Type 'yes' if you want to do again. Otherwise type 'no' : \n",
      "yes\n",
      "Type 'encode' to encrypt or 'decode' to decrypt \n",
      "decode\n",
      "Type your message: \n",
      "pjrjq mfhmji\n",
      "Type the shift number: \n",
      "5\n",
      "Here's the decode result : kemel hached\n",
      "Type 'yes' if you want to do again. Otherwise type 'no' : \n",
      "no\n",
      "See you next time !! \n",
      "\n"
     ]
    }
   ],
   "source": [
    "game_on = True \n",
    "\n",
    "print(\"Welcome to the Ceasar Cipher !!\\n\")\n",
    "\n",
    "while game_on == True :\n",
    "    \n",
    "    x = input(\"Type 'encode' to encrypt or 'decode' to decrypt \\n\").lower()\n",
    "\n",
    "    if x == 'encode' : \n",
    "        encode()\n",
    "    elif x == 'decode' : \n",
    "        decode()\n",
    "    else : \n",
    "        print('Wrong !! Try again')\n",
    "\n",
    "    Replay = input(\"Type 'yes' if you want to do again. Otherwise type 'no' : \\n\").lower()\n",
    "    \n",
    "    if Replay == 'yes':\n",
    "        game_on = True\n",
    "        continue\n",
    "        \n",
    "    elif Replay =='no':\n",
    "        print('See you next time !! \\n')\n",
    "        game_on = False\n",
    "        break"
   ]
  }
 ],
 "metadata": {
  "kernelspec": {
   "display_name": "Python 3 (ipykernel)",
   "language": "python",
   "name": "python3"
  },
  "language_info": {
   "codemirror_mode": {
    "name": "ipython",
    "version": 3
   },
   "file_extension": ".py",
   "mimetype": "text/x-python",
   "name": "python",
   "nbconvert_exporter": "python",
   "pygments_lexer": "ipython3",
   "version": "3.8.13"
  }
 },
 "nbformat": 4,
 "nbformat_minor": 5
}
