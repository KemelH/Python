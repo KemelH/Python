{
 "cells": [
  {
   "cell_type": "markdown",
   "id": "7214a087",
   "metadata": {},
   "source": [
    "# Hangman Game"
   ]
  },
  {
   "cell_type": "code",
   "execution_count": 1,
   "id": "fe9bb3d7",
   "metadata": {},
   "outputs": [],
   "source": [
    "#importation of the librairies needed\n",
    "from random_word import RandomWords\n",
    "import random\n",
    "from IPython.display import Image\n",
    "from IPython.display import clear_output"
   ]
  },
  {
   "cell_type": "code",
   "execution_count": 2,
   "id": "8bc2e865",
   "metadata": {},
   "outputs": [
    {
     "data": {
      "text/html": [
       "<img src=\"https://t3.ftcdn.net/jpg/03/63/09/08/360_F_363090811_wNoDTuqgxnVN3ZdWJAH9rkiexDEtMLA9.jpg\"/>"
      ],
      "text/plain": [
       "<IPython.core.display.Image object>"
      ]
     },
     "execution_count": 2,
     "metadata": {},
     "output_type": "execute_result"
    }
   ],
   "source": [
    "Image(url =\"https://t3.ftcdn.net/jpg/03/63/09/08/360_F_363090811_wNoDTuqgxnVN3ZdWJAH9rkiexDEtMLA9.jpg\")"
   ]
  },
  {
   "cell_type": "code",
   "execution_count": 3,
   "id": "9ab306b7",
   "metadata": {},
   "outputs": [],
   "source": [
    "stages = ['''\n",
    "  +---+\n",
    "  |   |\n",
    "  O   |\n",
    " /|\\  |\n",
    " / \\  |\n",
    "      |\n",
    "=========\n",
    "''', '''\n",
    "  +---+\n",
    "  |   |\n",
    "  O   |\n",
    " /|\\  |\n",
    " /    |\n",
    "      |\n",
    "=========\n",
    "''', '''\n",
    "  +---+\n",
    "  |   |\n",
    "  O   |\n",
    " /|\\  |\n",
    "      |\n",
    "      |\n",
    "=========\n",
    "''', '''\n",
    "  +---+\n",
    "  |   |\n",
    "  O   |\n",
    " /|   |\n",
    "      |\n",
    "      |\n",
    "=========''', '''\n",
    "  +---+\n",
    "  |   |\n",
    "  O   |\n",
    "  |   |\n",
    "      |\n",
    "      |\n",
    "=========\n",
    "''', '''\n",
    "  +---+\n",
    "  |   |\n",
    "  O   |\n",
    "      |\n",
    "      |\n",
    "      |\n",
    "=========\n",
    "''', '''\n",
    "  +---+\n",
    "  |   |\n",
    "      |\n",
    "      |\n",
    "      |\n",
    "      |\n",
    "=========\n",
    "''']\n",
    "logo = ''' \n",
    " _                                             \n",
    "| |                                            \n",
    "| |__   __ _ _ __   __ _ _ __ ___   __ _ _ __  \n",
    "| '_ \\ / _` | '_ \\ / _` | '_ ` _ \\ / _` | '_ \\ \n",
    "| | | | (_| | | | | (_| | | | | | | (_| | | | |\n",
    "|_| |_|\\__,_|_| |_|\\__, |_| |_| |_|\\__,_|_| |_|\n",
    "                    __/ |                      \n",
    "                   |___/    '''"
   ]
  },
  {
   "cell_type": "code",
   "execution_count": 4,
   "id": "c5b3d7e2",
   "metadata": {},
   "outputs": [
    {
     "name": "stdout",
     "output_type": "stream",
     "text": [
      "    a b\n",
      "You guessed c, that's not in the word. You lose a life\n",
      "\n",
      "  +---+\n",
      "  |   |\n",
      "  O   |\n",
      " /|\\  |\n",
      " / \\  |\n",
      "      |\n",
      "=========\n",
      "\n",
      "You lost !!\n",
      "\n",
      "The word to guess is: knab\n",
      "\n"
     ]
    }
   ],
   "source": [
    "print(\"Welcome to Hangman Game !\\n\")\n",
    "print(logo)\n",
    "\n",
    "game_on = True\n",
    "lives = 6 #number of lives for the player \n",
    "word_to_guess = RandomWords().get_random_word() #get a random word\n",
    "list_guess = list(word_to_guess) #convert the word to guess to a list \n",
    "\n",
    "print(f\"The word is composed of {len(list_guess)} letters\\n\")\n",
    "print(\"_ \" *len(list_guess))\n",
    "\n",
    "display = [\" \"]*len(list_guess) #creation an empty list with the length of the word to guess\n",
    "print(stages[lives]) \n",
    "\n",
    "while game_on:\n",
    "     \n",
    "    guess = input(\"Guess a letter : \").lower() #input the letter by the player\n",
    "    \n",
    "    clear_output() #just to clear the output for better exeperice for the player \n",
    "    \n",
    "    if guess in display:\n",
    "        print(f\"You already guessed {guess}\") #to tell the player he already guessed the letter inputed \n",
    "    \n",
    "    for position in range(len(list_guess)):\n",
    "        \n",
    "        letter = list_guess[position]\n",
    "        if letter == guess:\n",
    "            display[position] = letter  \n",
    "      #a loop that will go in the list of the word to guess and if it match with the guessed letter it will put this letter in the position of the display list \n",
    "    \n",
    "    print(f\"{' '.join(display)}\")\n",
    "            \n",
    "    if guess not in list_guess:\n",
    "        lives -= 1\n",
    "        print(f\"You guessed {guess}, that's not in the word. You lose a life\")\n",
    "        print(stages[lives])\n",
    "        # if the letter guessed not in the list of the word to guess it's take a life from the player and print the stage \n",
    "        \n",
    "    if lives == 0 : \n",
    "        print (\"You lost !!\\n\")\n",
    "        print(f\"The word to guess is: {word_to_guess}\\n\")\n",
    "        game_on = False\n",
    "                \n",
    "    elif display == list_guess:\n",
    "        print(f\"Congratulation, you found the word !! : {word_to_guess} \\n\")\n",
    "        break   \n",
    "        #this if statement will see if the player won or not "
   ]
  },
  {
   "cell_type": "code",
   "execution_count": null,
   "id": "b3029c17",
   "metadata": {},
   "outputs": [],
   "source": []
  }
 ],
 "metadata": {
  "kernelspec": {
   "display_name": "Python 3 (ipykernel)",
   "language": "python",
   "name": "python3"
  },
  "language_info": {
   "codemirror_mode": {
    "name": "ipython",
    "version": 3
   },
   "file_extension": ".py",
   "mimetype": "text/x-python",
   "name": "python",
   "nbconvert_exporter": "python",
   "pygments_lexer": "ipython3",
   "version": "3.8.13"
  }
 },
 "nbformat": 4,
 "nbformat_minor": 5
}
