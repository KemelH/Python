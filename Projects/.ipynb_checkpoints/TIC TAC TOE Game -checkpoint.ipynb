{
 "cells": [
  {
   "cell_type": "markdown",
   "id": "19257fb3",
   "metadata": {},
   "source": [
    "# TIC TAC TOE Game Project"
   ]
  },
  {
   "cell_type": "markdown",
   "id": "cbf3ad9a",
   "metadata": {},
   "source": [
    "Tic-tac-toe is played on a three-by-three grid by two players, who alternately place the marks X and O in one of the nine spaces in the grid."
   ]
  },
  {
   "cell_type": "code",
   "execution_count": 14,
   "id": "c1402dcd",
   "metadata": {},
   "outputs": [
    {
     "data": {
      "text/html": [
       "<img src=\"https://upload.wikimedia.org/wikipedia/commons/thumb/3/32/Tic_tac_toe.svg/1200px-Tic_tac_toe.svg.png\"/>"
      ],
      "text/plain": [
       "<IPython.core.display.Image object>"
      ]
     },
     "execution_count": 14,
     "metadata": {},
     "output_type": "execute_result"
    }
   ],
   "source": [
    "from IPython.display import Image\n",
    "Image ( url = \"https://upload.wikimedia.org/wikipedia/commons/thumb/3/32/Tic_tac_toe.svg/1200px-Tic_tac_toe.svg.png\")"
   ]
  },
  {
   "cell_type": "markdown",
   "id": "6487270d",
   "metadata": {},
   "source": [
    "### How to play \n",
    "    There is no universally-agreed rule as to who plays first, But in this Python program player will be randomly chosen.\n",
    "    The player need to choose a number between 1 and 9. \n",
    "    "
   ]
  },
  {
   "cell_type": "code",
   "execution_count": null,
   "id": "c47f5100",
   "metadata": {},
   "outputs": [],
   "source": [
    "print([1,2,3])\n",
    "print([4,5,6])\n",
    "print([7,8,9])\n",
    "# the position of the number 1 to 9 "
   ]
  },
  {
   "cell_type": "code",
   "execution_count": null,
   "id": "fdd3e694",
   "metadata": {},
   "outputs": [],
   "source": [
    "def player_input() : \n",
    "    \n",
    "    \"\"\" \n",
    "    \n",
    "    This function helps for the choice of the player who will play first and to enter the name of both players \n",
    "    \n",
    "    \"\"\"\n",
    "    \n",
    "    choice = ''\n",
    "    player1_marker = ''\n",
    "    player2_marker = ''\n",
    "    \n",
    "    \n",
    "    while choice not in ['X','O'] :\n",
    "        \n",
    "        choice = input(\"Please pick between 'X' and 'O' :\\n\").upper()\n",
    "        \n",
    "        if choice == 'X':\n",
    "            print (\"You are player 1\") \n",
    "            player1_marker = choice\n",
    "            print (\"your friend is player 2\")\n",
    "            player2_marker = 'O'\n",
    "            \n",
    "        \n",
    "        elif choice =='O': \n",
    "            print (\"You are player 2\")\n",
    "            player2_marker = choice\n",
    "            print (\"Your friend is player 1\")\n",
    "            player1_marker = 'X'\n",
    "\n",
    "            \n",
    "        else : \n",
    "            print ('Wrong, please enter the correct character !!! \\n')\n",
    "    return player1_marker, player2_marker"
   ]
  },
  {
   "cell_type": "code",
   "execution_count": null,
   "id": "84658afb",
   "metadata": {},
   "outputs": [],
   "source": [
    "import random\n",
    "\n",
    "def choose_first():\n",
    "    \n",
    "    \"\"\"\n",
    "    \n",
    "    This function will help us to choose randomly which player will player first\n",
    "    \n",
    "    \"\"\"\n",
    "    \n",
    "    if random.randint(0, 1) == 0:\n",
    "        return \"Player 2\"\n",
    "    else:\n",
    "        return \"Player 1\""
   ]
  },
  {
   "cell_type": "code",
   "execution_count": null,
   "id": "6fe03511",
   "metadata": {},
   "outputs": [],
   "source": [
    "from IPython.display import clear_output\n",
    "\n",
    "def display_board(board):\n",
    "    \n",
    "    \"\"\"\n",
    "    \n",
    "    This Function can print out a board. Set up your board as a list, where each index 1-9 corresponds with a number \n",
    "    on a number pad, so you get a 3 by 3 board representation.\n",
    "    \n",
    "    \"\"\"\n",
    "    clear_output()\n",
    "    print(board[1]+'|'+board[2]+'|'+board[3])\n",
    "    print(board[4]+'|'+board[5]+'|'+board[6])\n",
    "    print(board[7]+'|'+board[8]+'|'+board[9])"
   ]
  },
  {
   "cell_type": "code",
   "execution_count": null,
   "id": "7237f5ad",
   "metadata": {},
   "outputs": [],
   "source": [
    "def player_move(board):\n",
    "    \n",
    "    \"\"\"\n",
    "    \n",
    "    This Function ask the player for their next move \n",
    "    \n",
    "    \"\"\"\n",
    "    \n",
    "    position = 0\n",
    "    \n",
    "    while position not in [1,2,3,4,5,6,7,8,9] or space_check(board,position) == False : \n",
    "        \n",
    "        try :\n",
    "            position = int(input('Play you next move, choose a number between 1 and 9 : '))\n",
    "            \n",
    "        except : \n",
    "            print(\"Whoops! Wrong choice.\")\n",
    "            continue\n",
    "            \n",
    "        else : \n",
    "            print (\"Sorry wrong number !! please try again\")\n",
    "             \n",
    "        \n",
    "        \n",
    "    return position\n",
    "        \n",
    "    \n",
    "    "
   ]
  },
  {
   "cell_type": "code",
   "execution_count": null,
   "id": "8c40ccfa",
   "metadata": {},
   "outputs": [],
   "source": [
    "def place_marker(board, marker, position):\n",
    "    \n",
    "    \"\"\"\n",
    "    this function helps to assigns the marker to the board.\n",
    "    \n",
    "    \"\"\"\n",
    "    board[position] = marker"
   ]
  },
  {
   "cell_type": "code",
   "execution_count": null,
   "id": "83bf23dc",
   "metadata": {},
   "outputs": [],
   "source": [
    "def win_check(board,mark):\n",
    "    \n",
    "    \"\"\"\n",
    "    \n",
    "    This function helps us to check if any player has won or no \n",
    "    \n",
    "    \"\"\"\n",
    "    \n",
    "    return ((board[1]==mark and board[2]==mark and board[3]==mark) or \n",
    "            (board[4]==mark and board[5]==mark and board[6]==mark) or\n",
    "            (board[7]==mark and board[8]==mark and board[9]==mark) or\n",
    "            (board[1]==mark and board[4]==mark and board[7]==mark) or\n",
    "            (board[2]==mark and board[5]==mark and board[8]==mark) or\n",
    "            (board[3]==mark and board[6]==mark and board[9]==mark) or\n",
    "            (board[1]==mark and board[5]==mark and board[9]==mark) or\n",
    "            (board[7]==mark and board[5]==mark and board[3]==mark))"
   ]
  },
  {
   "cell_type": "code",
   "execution_count": null,
   "id": "6096ede4",
   "metadata": {},
   "outputs": [],
   "source": [
    "def space_check(board, position):\n",
    "    \n",
    "    \"\"\"\n",
    "    \n",
    "    This Function helps us to know if the position mentionned is free on our boards and return boolean \n",
    "    \n",
    "    \"\"\"\n",
    "    \n",
    "    return board[position] == ' '"
   ]
  },
  {
   "cell_type": "code",
   "execution_count": null,
   "id": "e0d32a99",
   "metadata": {},
   "outputs": [],
   "source": [
    "def full_board_check(board):\n",
    "    \n",
    "    \"\"\"\n",
    "    \n",
    "    This function helps us to know if our board is full and return boolean\n",
    "    \n",
    "    \"\"\"\n",
    "    for i in range(1,10):\n",
    "        if space_check(board, i):\n",
    "            return False\n",
    "    return True"
   ]
  },
  {
   "cell_type": "code",
   "execution_count": null,
   "id": "95cc1fdc",
   "metadata": {},
   "outputs": [],
   "source": [
    "def replay():\n",
    "    \n",
    "    \"\"\"\n",
    "    \n",
    "    This Function ask the players if they want to play again and return boolean \n",
    "    \n",
    "    \"\"\"\n",
    "        \n",
    "    return input('Do you want to play again ? Enter Yes or No: ').lower().startswith('y')"
   ]
  },
  {
   "cell_type": "code",
   "execution_count": null,
   "id": "1e84c5af",
   "metadata": {},
   "outputs": [],
   "source": [
    "print (\"Welcome to TIC TAC TOE game !!!\\n\")\n",
    "play_game = input('Are you ready to play? Enter Yes or No \\n \\n')\n",
    "    \n",
    "if play_game.lower() == 'yes': \n",
    "    game_on = True \n",
    "else : \n",
    "    game_on = False \n",
    "    print(\"See you next time !\")\n",
    "\n",
    "    \n",
    "while game_on == True : \n",
    "    board = [' ']* 10\n",
    "    player1_marker,player2_marker = player_input()\n",
    "    turn = choose_first()\n",
    "    print (turn + ' will play first \\n' )\n",
    "    \n",
    "        \n",
    "    while game_on : \n",
    "        if turn == \"Player 1\" : \n",
    "            display_board(board)\n",
    "            position = player_move(board)\n",
    "            place_marker(board,player1_marker,position)\n",
    "\n",
    "            if win_check( board,player1_marker):\n",
    "                display_board(board)\n",
    "                print ('Congratulation ! Player 1 have won the game !\\n ')\n",
    "                game_on = False\n",
    "            elif full_board_check(board):\n",
    "                display_board(board)\n",
    "                print ('The game is a draw ! \\n')\n",
    "                break \n",
    "            else : \n",
    "                turn = \"Player 2\"\n",
    "    \n",
    "        else :\n",
    "            display_board(board)\n",
    "            position = player_move(board)\n",
    "            place_marker(board,player2_marker,position)\n",
    "\n",
    "            if win_check( board,player2_marker):\n",
    "                display_board(board)\n",
    "                print ('Congratulation Player 2  have won the game ! \\n')\n",
    "                game_on = False\n",
    "            elif full_board_check(board):\n",
    "                display_board(board)\n",
    "                print ('The game is a draw ! \\n ')\n",
    "                break \n",
    "            else : \n",
    "                turn = \"Player 1\"\n",
    "                \n",
    "    if replay():\n",
    "        game_on = True \n",
    "        print (\"YES, Let's play again !!\\n\")\n",
    "    else : \n",
    "        print (\"See you next time !! \\n\")\n",
    "        break \n",
    "        "
   ]
  }
 ],
 "metadata": {
  "kernelspec": {
   "display_name": "Python 3",
   "language": "python",
   "name": "python3"
  },
  "language_info": {
   "codemirror_mode": {
    "name": "ipython",
    "version": 3
   },
   "file_extension": ".py",
   "mimetype": "text/x-python",
   "name": "python",
   "nbconvert_exporter": "python",
   "pygments_lexer": "ipython3",
   "version": "3.8.8"
  }
 },
 "nbformat": 4,
 "nbformat_minor": 5
}
